{
 "cells": [
  {
   "cell_type": "markdown",
   "metadata": {},
   "source": [
    "## Import Libraries"
   ]
  },
  {
   "cell_type": "code",
   "execution_count": null,
   "metadata": {},
   "outputs": [],
   "source": [
    "import pandas as pd\n",
    "import matplotlib.pyplot as plt"
   ]
  },
  {
   "cell_type": "markdown",
   "metadata": {},
   "source": [
    "## Data Cleaning"
   ]
  },
  {
   "cell_type": "code",
   "execution_count": null,
   "metadata": {},
   "outputs": [],
   "source": [
    "data = pd.read_csv(\"AirlineReviews.csv\")\n",
    "# Droping the rows with any missing values\n",
    "cleaned_data = data.dropna()\n",
    "cleaned_data.to_csv('cleaned_sample_data.csv', index=False)"
   ]
  },
  {
   "cell_type": "markdown",
   "metadata": {},
   "source": [
    "## Loading Data into DataFrame"
   ]
  },
  {
   "cell_type": "code",
   "execution_count": null,
   "metadata": {},
   "outputs": [],
   "source": [
    "df = pd.read_csv(\"cleaned_sample_data.csv\")"
   ]
  },
  {
   "cell_type": "markdown",
   "metadata": {},
   "source": [
    "## Line Graph"
   ]
  },
  {
   "cell_type": "code",
   "execution_count": null,
   "metadata": {},
   "outputs": [],
   "source": [
    "data = df.head(50)\n",
    "plt.figure(figsize=(12, 6))\n",
    "plt.plot(data['DateFlown'], data['OverallScore'], marker='o', linestyle='-')\n",
    "plt.title('Overall Score Over Time')\n",
    "plt.xlabel('Date Flown')\n",
    "plt.ylabel('Overall Score')\n",
    "plt.xticks(rotation=45)\n",
    "plt.tight_layout()\n",
    "plt.show()"
   ]
  },
  {
   "cell_type": "markdown",
   "metadata": {},
   "source": [
    "## Bar Graph"
   ]
  },
  {
   "cell_type": "code",
   "execution_count": null,
   "metadata": {},
   "outputs": [],
   "source": [
    "data = df.head(50)\n",
    "sample_data = data.head(50)\n",
    "plt.figure(figsize=(12, 6))\n",
    "plt.bar(sample_data['AirlineName'], sample_data['OverallScore'])\n",
    "plt.title('Overall Score for Sample Airlines')\n",
    "plt.xlabel('Airline Name')\n",
    "plt.ylabel('Overall Score')\n",
    "plt.xticks(rotation=45)\n",
    "plt.tight_layout()\n",
    "plt.show()"
   ]
  },
  {
   "cell_type": "markdown",
   "metadata": {},
   "source": [
    "## Histogram"
   ]
  },
  {
   "cell_type": "code",
   "execution_count": null,
   "metadata": {},
   "outputs": [],
   "source": [
    "plt.figure(figsize=(12, 6))\n",
    "plt.hist(df['OverallScore'].dropna(), bins=20, edgecolor='black')\n",
    "plt.title('Distribution of Overall Scores')\n",
    "plt.xlabel('Overall Score')\n",
    "plt.ylabel('Frequency')\n",
    "plt.tight_layout()\n",
    "plt.show()"
   ]
  },
  {
   "cell_type": "markdown",
   "metadata": {},
   "source": [
    "## Box-Whisker Plot"
   ]
  },
  {
   "cell_type": "code",
   "execution_count": null,
   "metadata": {},
   "outputs": [],
   "source": [
    "plt.figure(figsize=(12, 6))\n",
    "plt.boxplot(df['OverallScore'].dropna(), vert=False, patch_artist=True, boxprops=dict(facecolor='red', color='black'))\n",
    "plt.title('Box-Whisker Plot of Overall Scores')\n",
    "plt.xlabel('Overall Score')\n",
    "plt.tight_layout()\n",
    "plt.show()"
   ]
  },
  {
   "cell_type": "markdown",
   "metadata": {},
   "source": [
    "## Pie Chart"
   ]
  },
  {
   "cell_type": "code",
   "execution_count": null,
   "metadata": {},
   "outputs": [],
   "source": [
    "df = pd.read_csv(\"cleaned_sample_data.csv\")\n",
    "# Count the occurrences of Recommended\n",
    "recommend_counts = df['Recommended'].value_counts()\n",
    "plt.figure(figsize=(6, 6))\n",
    "plt.pie(recommend_counts, labels=recommend_counts.index, autopct='%1.1f%%', startangle=140)\n",
    "plt.title('Recommendation Distribution')\n",
    "plt.show()"
   ]
  }
 ],
 "metadata": {
  "kernelspec": {
   "display_name": "Python 3",
   "language": "python",
   "name": "python3"
  },
  "language_info": {
   "codemirror_mode": {
    "name": "ipython",
    "version": 3
   },
   "file_extension": ".py",
   "mimetype": "text/x-python",
   "name": "python",
   "nbconvert_exporter": "python",
   "pygments_lexer": "ipython3",
   "version": "3.12.4"
  }
 },
 "nbformat": 4,
 "nbformat_minor": 2
}
